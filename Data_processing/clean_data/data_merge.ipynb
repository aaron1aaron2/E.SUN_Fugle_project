{
 "cells": [
  {
   "cell_type": "code",
   "execution_count": 1,
   "metadata": {},
   "outputs": [],
   "source": [
    "import pandas as pd\n",
    "import os"
   ]
  },
  {
   "cell_type": "code",
   "execution_count": 2,
   "metadata": {},
   "outputs": [
    {
     "name": "stdout",
     "output_type": "stream",
     "text": [
      "/Users/jiaying/fugle\n"
     ]
    }
   ],
   "source": [
    "cwd = os.getcwd()\n",
    "print(cwd)"
   ]
  },
  {
   "cell_type": "code",
   "execution_count": 3,
   "metadata": {},
   "outputs": [],
   "source": [
    "os.chdir('/Users/jiaying/fugle/0050_data')"
   ]
  },
  {
   "cell_type": "code",
   "execution_count": 4,
   "metadata": {},
   "outputs": [
    {
     "name": "stdout",
     "output_type": "stream",
     "text": [
      "['beta', '每股淨值', '5y_price', '股利政策', 'EPS']\n"
     ]
    }
   ],
   "source": [
    "file_name = os.listdir()\n",
    "print(file_name)"
   ]
  },
  {
   "cell_type": "code",
   "execution_count": 5,
   "metadata": {},
   "outputs": [],
   "source": [
    "def data_merge(csv_name_list):\n",
    "    df=pd.read_excel(csv_name_list[0])\n",
    "    symbols =[]\n",
    "    for i in csv_name_list:\n",
    "          symbols.append(i[:4])\n",
    "    df['symbolId'] = symbols[0]\n",
    "    for i in range(1,len(csv_name_list)):\n",
    "        df2 = pd.read_excel(csv_name_list[i])\n",
    "        df2['symbolId'] = symbols[i]\n",
    "        df = pd.concat([df, df2],axis = 0)\n",
    "    return df"
   ]
  },
  {
   "cell_type": "code",
   "execution_count": 7,
   "metadata": {},
   "outputs": [],
   "source": [
    "for i in file_name:\n",
    "    os.chdir('/Users/jiaying/fugle/0050_data/'+i)\n",
    "    csv_name_list = os.listdir()\n",
    "    df = data_merge(csv_name_list)\n",
    "    df = df.reset_index(drop=True)\n",
    "    df.to_csv('/Users/jiaying/fugle/0050_data/'+i+'.csv')"
   ]
  },
  {
   "cell_type": "code",
   "execution_count": null,
   "metadata": {},
   "outputs": [],
   "source": []
  }
 ],
 "metadata": {
  "kernelspec": {
   "display_name": "Python 3",
   "language": "python",
   "name": "python3"
  },
  "language_info": {
   "codemirror_mode": {
    "name": "ipython",
    "version": 3
   },
   "file_extension": ".py",
   "mimetype": "text/x-python",
   "name": "python",
   "nbconvert_exporter": "python",
   "pygments_lexer": "ipython3",
   "version": "3.7.3"
  }
 },
 "nbformat": 4,
 "nbformat_minor": 2
}
